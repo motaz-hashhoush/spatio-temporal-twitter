{
 "cells": [
  {
   "cell_type": "code",
   "execution_count": 89,
   "metadata": {},
   "outputs": [],
   "source": [
    "import pandas as pd\n",
    "from elasticsearch import Elasticsearch\n",
    "from elasticsearch import helpers\n",
    "import uuid"
   ]
  },
  {
   "cell_type": "code",
   "execution_count": 110,
   "metadata": {},
   "outputs": [
    {
     "data": {
      "text/html": [
       "<div>\n",
       "<style scoped>\n",
       "    .dataframe tbody tr th:only-of-type {\n",
       "        vertical-align: middle;\n",
       "    }\n",
       "\n",
       "    .dataframe tbody tr th {\n",
       "        vertical-align: top;\n",
       "    }\n",
       "\n",
       "    .dataframe thead th {\n",
       "        text-align: right;\n",
       "    }\n",
       "</style>\n",
       "<table border=\"1\" class=\"dataframe\">\n",
       "  <thead>\n",
       "    <tr style=\"text-align: right;\">\n",
       "      <th></th>\n",
       "      <th>Unnamed: 0</th>\n",
       "      <th>created_at</th>\n",
       "      <th>text</th>\n",
       "      <th>coordinates</th>\n",
       "    </tr>\n",
       "  </thead>\n",
       "  <tbody>\n",
       "    <tr>\n",
       "      <th>0</th>\n",
       "      <td>0</td>\n",
       "      <td>2013-12-31 07:14:22+00:00</td>\n",
       "      <td>Boom bitch get out the way! #drunk #islands #g...</td>\n",
       "      <td>[-118.10041174, 34.14628356]</td>\n",
       "    </tr>\n",
       "    <tr>\n",
       "      <th>1</th>\n",
       "      <td>1</td>\n",
       "      <td>2013-12-30 20:29:20+00:00</td>\n",
       "      <td>Story of my life! 😂 #boulder http://t.co/ZMfNK...</td>\n",
       "      <td>[0.13429814, 52.22500698]</td>\n",
       "    </tr>\n",
       "    <tr>\n",
       "      <th>2</th>\n",
       "      <td>2</td>\n",
       "      <td>2014-01-01 06:12:15+00:00</td>\n",
       "      <td>Happy New Year #Boulder !!!! What are some of ...</td>\n",
       "      <td>[144.98467167, -37.80312131]</td>\n",
       "    </tr>\n",
       "    <tr>\n",
       "      <th>3</th>\n",
       "      <td>3</td>\n",
       "      <td>2013-12-31 22:48:10+00:00</td>\n",
       "      <td>Last sunset here in #boulder #flatirons @ Dush...</td>\n",
       "      <td>[-105.27725101, 40.01544423]</td>\n",
       "    </tr>\n",
       "    <tr>\n",
       "      <th>4</th>\n",
       "      <td>4</td>\n",
       "      <td>2014-01-01 04:57:01+00:00</td>\n",
       "      <td>Ringing in the #NewYear @BMoCA for their NYE a...</td>\n",
       "      <td>[-105.2769568, 40.01579474]</td>\n",
       "    </tr>\n",
       "    <tr>\n",
       "      <th>...</th>\n",
       "      <td>...</td>\n",
       "      <td>...</td>\n",
       "      <td>...</td>\n",
       "      <td>...</td>\n",
       "    </tr>\n",
       "    <tr>\n",
       "      <th>3938</th>\n",
       "      <td>3938</td>\n",
       "      <td>2013-09-12 05:08:40+00:00</td>\n",
       "      <td>“@dailycamera: RT @JoeCarmenRubino: #Boulder C...</td>\n",
       "      <td>[-105.0837946, 40.00217227]</td>\n",
       "    </tr>\n",
       "    <tr>\n",
       "      <th>3939</th>\n",
       "      <td>3939</td>\n",
       "      <td>2013-09-12 05:09:24+00:00</td>\n",
       "      <td>Wow. “@jrbates: Update: @dailycamera reports s...</td>\n",
       "      <td>[-104.95341443, 39.70087895]</td>\n",
       "    </tr>\n",
       "    <tr>\n",
       "      <th>3940</th>\n",
       "      <td>3940</td>\n",
       "      <td>2013-09-12 04:36:22+00:00</td>\n",
       "      <td>Dealing with heavy rain along I-70E near Auror...</td>\n",
       "      <td>[-104.87204539, 39.77646518]</td>\n",
       "    </tr>\n",
       "    <tr>\n",
       "      <th>3941</th>\n",
       "      <td>3941</td>\n",
       "      <td>2013-09-12 04:35:37+00:00</td>\n",
       "      <td>CU kids having fun in the flooding underpass. ...</td>\n",
       "      <td>[-105.27772709, 40.03908039]</td>\n",
       "    </tr>\n",
       "    <tr>\n",
       "      <th>3942</th>\n",
       "      <td>3942</td>\n",
       "      <td>2013-09-12 05:00:08+00:00</td>\n",
       "      <td>Here's the #boulderflood video that's circulat...</td>\n",
       "      <td>[-104.96650623, 39.65430591]</td>\n",
       "    </tr>\n",
       "  </tbody>\n",
       "</table>\n",
       "<p>3943 rows × 4 columns</p>\n",
       "</div>"
      ],
      "text/plain": [
       "      Unnamed: 0                 created_at  \\\n",
       "0              0  2013-12-31 07:14:22+00:00   \n",
       "1              1  2013-12-30 20:29:20+00:00   \n",
       "2              2  2014-01-01 06:12:15+00:00   \n",
       "3              3  2013-12-31 22:48:10+00:00   \n",
       "4              4  2014-01-01 04:57:01+00:00   \n",
       "...          ...                        ...   \n",
       "3938        3938  2013-09-12 05:08:40+00:00   \n",
       "3939        3939  2013-09-12 05:09:24+00:00   \n",
       "3940        3940  2013-09-12 04:36:22+00:00   \n",
       "3941        3941  2013-09-12 04:35:37+00:00   \n",
       "3942        3942  2013-09-12 05:00:08+00:00   \n",
       "\n",
       "                                                   text  \\\n",
       "0     Boom bitch get out the way! #drunk #islands #g...   \n",
       "1     Story of my life! 😂 #boulder http://t.co/ZMfNK...   \n",
       "2     Happy New Year #Boulder !!!! What are some of ...   \n",
       "3     Last sunset here in #boulder #flatirons @ Dush...   \n",
       "4     Ringing in the #NewYear @BMoCA for their NYE a...   \n",
       "...                                                 ...   \n",
       "3938  “@dailycamera: RT @JoeCarmenRubino: #Boulder C...   \n",
       "3939  Wow. “@jrbates: Update: @dailycamera reports s...   \n",
       "3940  Dealing with heavy rain along I-70E near Auror...   \n",
       "3941  CU kids having fun in the flooding underpass. ...   \n",
       "3942  Here's the #boulderflood video that's circulat...   \n",
       "\n",
       "                       coordinates  \n",
       "0     [-118.10041174, 34.14628356]  \n",
       "1        [0.13429814, 52.22500698]  \n",
       "2     [144.98467167, -37.80312131]  \n",
       "3     [-105.27725101, 40.01544423]  \n",
       "4      [-105.2769568, 40.01579474]  \n",
       "...                            ...  \n",
       "3938   [-105.0837946, 40.00217227]  \n",
       "3939  [-104.95341443, 39.70087895]  \n",
       "3940  [-104.87204539, 39.77646518]  \n",
       "3941  [-105.27772709, 40.03908039]  \n",
       "3942  [-104.96650623, 39.65430591]  \n",
       "\n",
       "[3943 rows x 4 columns]"
      ]
     },
     "execution_count": 110,
     "metadata": {},
     "output_type": "execute_result"
    }
   ],
   "source": [
    "data = pd.read_csv('./data/data.csv')\n",
    "data"
   ]
  },
  {
   "cell_type": "code",
   "execution_count": 111,
   "metadata": {},
   "outputs": [],
   "source": [
    "# take only date of day\n",
    "data['created_at'] = data['created_at'].str.split(' ', expand = True)[0]"
   ]
  },
  {
   "cell_type": "code",
   "execution_count": 112,
   "metadata": {},
   "outputs": [
    {
     "data": {
      "text/html": [
       "<div>\n",
       "<style scoped>\n",
       "    .dataframe tbody tr th:only-of-type {\n",
       "        vertical-align: middle;\n",
       "    }\n",
       "\n",
       "    .dataframe tbody tr th {\n",
       "        vertical-align: top;\n",
       "    }\n",
       "\n",
       "    .dataframe thead th {\n",
       "        text-align: right;\n",
       "    }\n",
       "</style>\n",
       "<table border=\"1\" class=\"dataframe\">\n",
       "  <thead>\n",
       "    <tr style=\"text-align: right;\">\n",
       "      <th></th>\n",
       "      <th>Unnamed: 0</th>\n",
       "      <th>created_at</th>\n",
       "      <th>text</th>\n",
       "      <th>coordinates</th>\n",
       "    </tr>\n",
       "  </thead>\n",
       "  <tbody>\n",
       "    <tr>\n",
       "      <th>0</th>\n",
       "      <td>0</td>\n",
       "      <td>2013-12-31</td>\n",
       "      <td>Boom bitch get out the way! #drunk #islands #g...</td>\n",
       "      <td>[-118.10041174, 34.14628356]</td>\n",
       "    </tr>\n",
       "    <tr>\n",
       "      <th>1</th>\n",
       "      <td>1</td>\n",
       "      <td>2013-12-30</td>\n",
       "      <td>Story of my life! 😂 #boulder http://t.co/ZMfNK...</td>\n",
       "      <td>[0.13429814, 52.22500698]</td>\n",
       "    </tr>\n",
       "    <tr>\n",
       "      <th>2</th>\n",
       "      <td>2</td>\n",
       "      <td>2014-01-01</td>\n",
       "      <td>Happy New Year #Boulder !!!! What are some of ...</td>\n",
       "      <td>[144.98467167, -37.80312131]</td>\n",
       "    </tr>\n",
       "    <tr>\n",
       "      <th>3</th>\n",
       "      <td>3</td>\n",
       "      <td>2013-12-31</td>\n",
       "      <td>Last sunset here in #boulder #flatirons @ Dush...</td>\n",
       "      <td>[-105.27725101, 40.01544423]</td>\n",
       "    </tr>\n",
       "    <tr>\n",
       "      <th>4</th>\n",
       "      <td>4</td>\n",
       "      <td>2014-01-01</td>\n",
       "      <td>Ringing in the #NewYear @BMoCA for their NYE a...</td>\n",
       "      <td>[-105.2769568, 40.01579474]</td>\n",
       "    </tr>\n",
       "    <tr>\n",
       "      <th>...</th>\n",
       "      <td>...</td>\n",
       "      <td>...</td>\n",
       "      <td>...</td>\n",
       "      <td>...</td>\n",
       "    </tr>\n",
       "    <tr>\n",
       "      <th>3938</th>\n",
       "      <td>3938</td>\n",
       "      <td>2013-09-12</td>\n",
       "      <td>“@dailycamera: RT @JoeCarmenRubino: #Boulder C...</td>\n",
       "      <td>[-105.0837946, 40.00217227]</td>\n",
       "    </tr>\n",
       "    <tr>\n",
       "      <th>3939</th>\n",
       "      <td>3939</td>\n",
       "      <td>2013-09-12</td>\n",
       "      <td>Wow. “@jrbates: Update: @dailycamera reports s...</td>\n",
       "      <td>[-104.95341443, 39.70087895]</td>\n",
       "    </tr>\n",
       "    <tr>\n",
       "      <th>3940</th>\n",
       "      <td>3940</td>\n",
       "      <td>2013-09-12</td>\n",
       "      <td>Dealing with heavy rain along I-70E near Auror...</td>\n",
       "      <td>[-104.87204539, 39.77646518]</td>\n",
       "    </tr>\n",
       "    <tr>\n",
       "      <th>3941</th>\n",
       "      <td>3941</td>\n",
       "      <td>2013-09-12</td>\n",
       "      <td>CU kids having fun in the flooding underpass. ...</td>\n",
       "      <td>[-105.27772709, 40.03908039]</td>\n",
       "    </tr>\n",
       "    <tr>\n",
       "      <th>3942</th>\n",
       "      <td>3942</td>\n",
       "      <td>2013-09-12</td>\n",
       "      <td>Here's the #boulderflood video that's circulat...</td>\n",
       "      <td>[-104.96650623, 39.65430591]</td>\n",
       "    </tr>\n",
       "  </tbody>\n",
       "</table>\n",
       "<p>3943 rows × 4 columns</p>\n",
       "</div>"
      ],
      "text/plain": [
       "      Unnamed: 0  created_at  \\\n",
       "0              0  2013-12-31   \n",
       "1              1  2013-12-30   \n",
       "2              2  2014-01-01   \n",
       "3              3  2013-12-31   \n",
       "4              4  2014-01-01   \n",
       "...          ...         ...   \n",
       "3938        3938  2013-09-12   \n",
       "3939        3939  2013-09-12   \n",
       "3940        3940  2013-09-12   \n",
       "3941        3941  2013-09-12   \n",
       "3942        3942  2013-09-12   \n",
       "\n",
       "                                                   text  \\\n",
       "0     Boom bitch get out the way! #drunk #islands #g...   \n",
       "1     Story of my life! 😂 #boulder http://t.co/ZMfNK...   \n",
       "2     Happy New Year #Boulder !!!! What are some of ...   \n",
       "3     Last sunset here in #boulder #flatirons @ Dush...   \n",
       "4     Ringing in the #NewYear @BMoCA for their NYE a...   \n",
       "...                                                 ...   \n",
       "3938  “@dailycamera: RT @JoeCarmenRubino: #Boulder C...   \n",
       "3939  Wow. “@jrbates: Update: @dailycamera reports s...   \n",
       "3940  Dealing with heavy rain along I-70E near Auror...   \n",
       "3941  CU kids having fun in the flooding underpass. ...   \n",
       "3942  Here's the #boulderflood video that's circulat...   \n",
       "\n",
       "                       coordinates  \n",
       "0     [-118.10041174, 34.14628356]  \n",
       "1        [0.13429814, 52.22500698]  \n",
       "2     [144.98467167, -37.80312131]  \n",
       "3     [-105.27725101, 40.01544423]  \n",
       "4      [-105.2769568, 40.01579474]  \n",
       "...                            ...  \n",
       "3938   [-105.0837946, 40.00217227]  \n",
       "3939  [-104.95341443, 39.70087895]  \n",
       "3940  [-104.87204539, 39.77646518]  \n",
       "3941  [-105.27772709, 40.03908039]  \n",
       "3942  [-104.96650623, 39.65430591]  \n",
       "\n",
       "[3943 rows x 4 columns]"
      ]
     },
     "execution_count": 112,
     "metadata": {},
     "output_type": "execute_result"
    }
   ],
   "source": [
    "data"
   ]
  },
  {
   "cell_type": "code",
   "execution_count": 113,
   "metadata": {},
   "outputs": [
    {
     "name": "stderr",
     "output_type": "stream",
     "text": [
      "C:\\Users\\mo6tz\\AppData\\Local\\Temp/ipykernel_19948/139094957.py:2: FutureWarning: In a future version of pandas all arguments of DataFrame.drop except for the argument 'labels' will be keyword-only\n",
      "  data = data.drop('Unnamed: 0', 1)\n"
     ]
    }
   ],
   "source": [
    "# delete index column\n",
    "data = data.drop('Unnamed: 0', 1)"
   ]
  },
  {
   "cell_type": "code",
   "execution_count": 105,
   "metadata": {},
   "outputs": [],
   "source": [
    "# conveart dataFrame to list\n",
    "data_list = data.values.tolist()"
   ]
  },
  {
   "cell_type": "code",
   "execution_count": 106,
   "metadata": {},
   "outputs": [],
   "source": [
    "# conveart coordinates from string to list\n",
    "for i in range(len(data_list)):\n",
    "    data_list[i][2] =  data_list[i][2].replace('[', '').replace(']', '').split(',')\n",
    "    data_list[i][2][0] = float(data_list[i][2][0]) \n",
    "    data_list[i][2][1] = float(data_list[i][2][1]) "
   ]
  },
  {
   "cell_type": "code",
   "execution_count": 96,
   "metadata": {},
   "outputs": [],
   "source": [
    "es = Elasticsearch()\n",
    "index_name = 'tweets'"
   ]
  },
  {
   "cell_type": "code",
   "execution_count": 97,
   "metadata": {},
   "outputs": [
    {
     "name": "stderr",
     "output_type": "stream",
     "text": [
      "C:\\Users\\mo6tz\\AppData\\Local\\Temp/ipykernel_19948/3132206947.py:2: DeprecationWarning: The 'body' parameter is deprecated for the 'create' API and will be removed in a future version. Instead use API parameters directly. See https://github.com/elastic/elasticsearch-py/issues/1698 for more information\n",
      "  es.indices.create(index=index_name, ignore=400, body={\n",
      "C:\\Python39\\lib\\site-packages\\elasticsearch\\connection\\base.py:209: ElasticsearchWarning: Elasticsearch built-in security features are not enabled. Without authentication, your cluster could be accessible to anyone. See https://www.elastic.co/guide/en/elasticsearch/reference/7.15/security-minimal-setup.html to enable security.\n",
      "  warnings.warn(message, category=ElasticsearchWarning)\n"
     ]
    },
    {
     "data": {
      "text/plain": [
       "{'acknowledged': True, 'shards_acknowledged': True, 'index': 'tweets'}"
      ]
     },
     "execution_count": 97,
     "metadata": {},
     "output_type": "execute_result"
    }
   ],
   "source": [
    "# create an index with custom mapping\n",
    "es.indices.create(index=index_name, ignore=400, body={\n",
    "    'mappings': {\n",
    "        'dynamic': 'strict',\n",
    "        'properties':{\n",
    "            'created_at': {'type': 'date'},\n",
    "            'text': {'type': 'text'},\n",
    "            'coordinates': {'type': 'geo_point'}\n",
    "        }\n",
    "    }\n",
    "})"
   ]
  },
  {
   "cell_type": "code",
   "execution_count": 107,
   "metadata": {},
   "outputs": [],
   "source": [
    "actions = [\n",
    "    {\n",
    "        '_index': index_name,\n",
    "        '_type': '_doc',\n",
    "        '_id': uuid.uuid4().int,\n",
    "        '_source': {\n",
    "            \"created_at\": tweet[0],\n",
    "            \"text\": tweet[1],\n",
    "            \"coordinates\": tweet[2]\n",
    "        }\n",
    "    }\n",
    "    for tweet in data_list\n",
    "]\n"
   ]
  },
  {
   "cell_type": "code",
   "execution_count": 108,
   "metadata": {},
   "outputs": [
    {
     "data": {
      "text/plain": [
       "{'_index': 'tweets',\n",
       " '_type': '_doc',\n",
       " '_id': 264345021700784448705878855496313140130,\n",
       " '_source': {'created_at': '2013-12-31',\n",
       "  'text': 'Boom bitch get out the way! #drunk #islands #girlsnight  #BJs #hookah #zephyrs #boulder #marines… http://t.co/uYmu7c4o0x',\n",
       "  'coordinates': [-118.10041174, 34.14628356]}}"
      ]
     },
     "execution_count": 108,
     "metadata": {},
     "output_type": "execute_result"
    }
   ],
   "source": [
    "actions[0]"
   ]
  },
  {
   "cell_type": "code",
   "execution_count": 109,
   "metadata": {},
   "outputs": [
    {
     "name": "stderr",
     "output_type": "stream",
     "text": [
      "C:\\Python39\\lib\\site-packages\\elasticsearch\\connection\\base.py:209: ElasticsearchWarning: Elasticsearch built-in security features are not enabled. Without authentication, your cluster could be accessible to anyone. See https://www.elastic.co/guide/en/elasticsearch/reference/7.15/security-minimal-setup.html to enable security.\n",
      "  warnings.warn(message, category=ElasticsearchWarning)\n",
      "C:\\Python39\\lib\\site-packages\\elasticsearch\\connection\\base.py:209: ElasticsearchWarning: [types removal] Specifying types in bulk requests is deprecated.\n",
      "  warnings.warn(message, category=ElasticsearchWarning)\n"
     ]
    },
    {
     "data": {
      "text/plain": [
       "(3943, [])"
      ]
     },
     "execution_count": 109,
     "metadata": {},
     "output_type": "execute_result"
    }
   ],
   "source": [
    "helpers.bulk(es, actions)"
   ]
  },
  {
   "cell_type": "code",
   "execution_count": null,
   "metadata": {},
   "outputs": [],
   "source": []
  },
  {
   "cell_type": "code",
   "execution_count": null,
   "metadata": {},
   "outputs": [],
   "source": []
  }
 ],
 "metadata": {
  "interpreter": {
   "hash": "63fd5069d213b44bf678585dea6b12cceca9941eaf7f819626cde1f2670de90d"
  },
  "kernelspec": {
   "display_name": "Python 3.9.2 64-bit",
   "language": "python",
   "name": "python3"
  },
  "language_info": {
   "codemirror_mode": {
    "name": "ipython",
    "version": 3
   },
   "file_extension": ".py",
   "mimetype": "text/x-python",
   "name": "python",
   "nbconvert_exporter": "python",
   "pygments_lexer": "ipython3",
   "version": "3.9.2"
  },
  "orig_nbformat": 4
 },
 "nbformat": 4,
 "nbformat_minor": 2
}
